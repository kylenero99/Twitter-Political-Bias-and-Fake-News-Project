{
 "cells": [
  {
   "cell_type": "code",
   "execution_count": 29,
   "metadata": {},
   "outputs": [],
   "source": [
    "import tweepy"
   ]
  },
  {
   "cell_type": "code",
   "execution_count": 30,
   "metadata": {},
   "outputs": [],
   "source": [
    "consumer_key='8aGoH9vgxaCPcJ6mHMnRzynZE'\n",
    "consumer_secret='vNfoSyMJztb4kIFwbse6KUhjWQwzSescdCETWaDwubaIlvQk4J'\n",
    "access_token='1340710176-IUEKNYv3G4xQtaq1XWUHEAuSnsWiaoHiK4317CV'\n",
    "access_token_secret='ZbLPs4dP9It4TxoH3ka7yoZi8XHd8xRIkho41X6MXLQFJ'"
   ]
  },
  {
   "cell_type": "code",
   "execution_count": 31,
   "metadata": {},
   "outputs": [],
   "source": [
    "   # authorization of consumer key and consumer secret \n",
    "auth = tweepy.OAuthHandler(consumer_key, consumer_secret) \n",
    "  \n",
    "# set access to user's access key and access secret  \n",
    "auth.set_access_token(access_token, access_token_secret) \n",
    "  \n",
    "# calling the api  \n",
    "api = tweepy.API(auth) \n",
    "  \n",
    "# the ID of the tweet \n",
    "ID = 1266036023177424899\n",
    "  \n",
    "# getting the retweeters \n",
    "retweets_list = api.retweets(ID) \n",
    "  \n",
    "# printing the screen names of the retweeters \n",
    "i = 0\n",
    "for retweet in retweets_list: \n",
    "    print(i, retweet.user.screen_name) \n",
    "    i += 1"
   ]
  },
  {
   "cell_type": "code",
   "execution_count": 37,
   "metadata": {
    "scrolled": true
   },
   "outputs": [
    {
     "name": "stdout",
     "output_type": "stream",
     "text": [
      "Carola_66\n",
      "WhigsnTwigs\n",
      "DaleRushton\n",
      "Choc19982711\n",
      "pdubbs1\n",
      "alaskaiii\n",
      "JAC4124\n",
      "gammatwiceover\n",
      "TeaTimePodcasts\n",
      "JohnJHooker\n",
      "edgardegryze\n",
      "AzzurraSilvy\n",
      "manuel_622\n",
      "Lissicorzo\n",
      "Sorenderz\n",
      "fuertealocha\n",
      "JedforestI\n",
      "DiArgerie_qca\n",
      "DianaHa31981161\n",
      "Babyblu58109823\n",
      "Katlyn88984183\n",
      "SergioP66991040\n",
      "MichaelLK81\n",
      "MariselaOliva11\n",
      "rhabdo24\n",
      "LDJohns27529871\n",
      "AaronDaltonKen1\n",
      "Michael27742757\n",
      "OrionStarkiller\n",
      "lj2626\n",
      "SaraiStreet\n",
      "darsurf_\n",
      "iliana_mac829\n",
      "katdraggeden\n",
      "joaquinbriceno\n",
      "katchase\n",
      "johngone654\n",
      "analawton\n",
      "Quintero_Funes\n",
      "mightysparty\n",
      "maibortpetit\n",
      "SalomnM\n",
      "DanCaldwell1992\n",
      "Felipe99284661\n",
      "SJDutko\n",
      "carmenqcarmenm\n",
      "iwanttotalk_now\n",
      "GeneralFees\n",
      "emonkey79\n",
      "BurchellErnest\n",
      "CXA12\n",
      "DWilliams_77\n",
      "JoeMckosky\n",
      "TheEagleSocial\n",
      "CoverJoellen\n",
      "UnfreezYourMind\n",
      "cd1m\n",
      "realDewoye\n",
      "Samuel4Olufemi\n",
      "MarcosMachadodf\n",
      "JeffJZimmerer\n",
      "michaelhazlew14\n",
      "Octavia67106716\n",
      "Kathlee54882926\n",
      "britt_brat_94\n",
      "ThHays69\n",
      "purpledalmation\n",
      "JohnSchreiber8\n",
      "Carolyn76121476\n",
      "Arkane10779814\n",
      "JessieMimi5\n",
      "ComedyGrinder\n",
      "rick_maddox\n",
      "Graciel26633655\n",
      "kris32827497\n",
      "nutz1602\n",
      "Citizens_United\n",
      "chan612721831\n",
      "DrinkerDanny\n",
      "MackenzieA98\n",
      "JohnALombardi2\n",
      "Mattytwo2\n",
      "CammieRountree\n",
      "deplorabletk\n",
      "CJC98617496\n",
      "ABrounty\n",
      "NancyHa48535532\n",
      "SarsamZaidoon\n",
      "4519steven\n",
      "MillyHeir\n"
     ]
    },
    {
     "data": {
      "text/plain": [
       "90"
      ]
     },
     "execution_count": 37,
     "metadata": {},
     "output_type": "execute_result"
    }
   ],
   "source": [
    "# the ID of the tweet \n",
    "ID = 1354568967201959937\n",
    "  \n",
    "# number to retweets to be retrieved \n",
    "count = 1000\n",
    "  \n",
    "# getting the retweeters \n",
    "retweets_list = api.retweets(ID, 1000) \n",
    "  \n",
    "# printing the screen names of the retweeters \n",
    "for retweet in retweets_list: \n",
    "    print(retweet.user.screen_name) \n",
    "len(retweets_list)"
   ]
  },
  {
   "cell_type": "code",
   "execution_count": null,
   "metadata": {},
   "outputs": [],
   "source": []
  }
 ],
 "metadata": {
  "kernelspec": {
   "display_name": "Python 3",
   "language": "python",
   "name": "python3"
  },
  "language_info": {
   "codemirror_mode": {
    "name": "ipython",
    "version": 3
   },
   "file_extension": ".py",
   "mimetype": "text/x-python",
   "name": "python",
   "nbconvert_exporter": "python",
   "pygments_lexer": "ipython3",
   "version": "3.8.5"
  }
 },
 "nbformat": 4,
 "nbformat_minor": 4
}
